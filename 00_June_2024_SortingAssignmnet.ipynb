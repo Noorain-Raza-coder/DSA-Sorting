{
 "cells": [
  {
   "cell_type": "markdown",
   "id": "49f65158",
   "metadata": {},
   "source": [
    "## Sorting Problems"
   ]
  },
  {
   "cell_type": "markdown",
   "id": "8688061b",
   "metadata": {},
   "source": [
    "### Problem 1.Given an array of n numbers, give an algorithm which gives the element appearing maximum number of times?"
   ]
  },
  {
   "cell_type": "markdown",
   "id": "00148f81",
   "metadata": {},
   "source": [
    "### Problem 2 : We are given a list of n-1 integers and these integers are in the range of 1 to n . There are no duplicates in the list. One of the integers is missing in the list. Give an algorithm to find that element Ex: [1,2,4,6,3,7,8] 5 is the missing num."
   ]
  },
  {
   "cell_type": "markdown",
   "id": "144cdc74",
   "metadata": {},
   "source": [
    "### Problem 3 : Given an array of n positive numbers. All numbers occurs even number of times except 1 which occurs odd number of times. Find that number in O(n) time and O(1) space. Ex: [1,2,3,2,3,1,3]. 3 is repeats odd times."
   ]
  },
  {
   "cell_type": "markdown",
   "id": "63898f72",
   "metadata": {},
   "source": [
    "### Problem 4 : Given an array of n elements. Find two elements in the array such that their sum is equal to given element K."
   ]
  },
  {
   "cell_type": "markdown",
   "id": "43784bfa",
   "metadata": {},
   "source": [
    "### Problem 5 : Given an array of both positive and negative numbers, find two numbers such that their sum is closest to 0. Ex: [ 1 ,60 ,-10, 70, -80,85]. Ans : -80,85."
   ]
  },
  {
   "cell_type": "markdown",
   "id": "f14b549d",
   "metadata": {},
   "source": [
    "### Problem 6 : Given an array of n elements . Find three elements such that their sum is equal to the given number."
   ]
  },
  {
   "cell_type": "markdown",
   "id": "fbd0a2fd",
   "metadata": {},
   "source": [
    "### Problem 7 : Given an array of n elements . Find three elements i, j, k in the array such that : i * i + j * j = k*k."
   ]
  },
  {
   "cell_type": "markdown",
   "id": "ef7a010d",
   "metadata": {},
   "source": [
    "### Problem 8 : An element is a majority if it appears more than n/2 times. Give an algorithm takes an array of n element as argument and identifies a majority (if it exists)."
   ]
  },
  {
   "cell_type": "markdown",
   "id": "7dfeed45",
   "metadata": {},
   "source": [
    "### Problem 9 : Given n × n matrix, and in each row all 1’s are followed by 0’s. Find the row with the maximum number of 0’s."
   ]
  },
  {
   "cell_type": "markdown",
   "id": "abbce384",
   "metadata": {},
   "source": [
    "### Problem 10 : Sort an array of 0’s, 1’s and 2’s [or R’s, G’s and B’s]: Given an array A[] consisting of 0’s, 1’s and 2’s, give an algorithm for sorting A[].The algorithm should put all 0’s first, then all 1’s and finally all 2’s at the end. Example Input = {0,1,1,0,1,2,1,2,0,0,0,1}, Output = {0,0,0,0,0,1,1,1,1,1,2,2}"
   ]
  },
  {
   "cell_type": "markdown",
   "id": "ceab1314",
   "metadata": {},
   "source": [
    "\n",
    "\n",
    "\n",
    "\n"
   ]
  }
 ],
 "metadata": {
  "kernelspec": {
   "display_name": "Python 3 (ipykernel)",
   "language": "python",
   "name": "python3"
  },
  "language_info": {
   "codemirror_mode": {
    "name": "ipython",
    "version": 3
   },
   "file_extension": ".py",
   "mimetype": "text/x-python",
   "name": "python",
   "nbconvert_exporter": "python",
   "pygments_lexer": "ipython3",
   "version": "3.9.12"
  }
 },
 "nbformat": 4,
 "nbformat_minor": 5
}
